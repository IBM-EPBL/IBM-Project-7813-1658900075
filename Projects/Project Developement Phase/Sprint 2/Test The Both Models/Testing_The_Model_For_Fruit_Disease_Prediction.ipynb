{
  "nbformat": 4,
  "nbformat_minor": 0,
  "metadata": {
    "colab": {
      "provenance": [],
      "collapsed_sections": []
    },
    "kernelspec": {
      "name": "python3",
      "display_name": "Python 3"
    },
    "language_info": {
      "name": "python"
    }
  },
  "cells": [
    {
      "cell_type": "markdown",
      "source": [
        "### Testing The Model For Fruit Disease Prediction"
      ],
      "metadata": {
        "id": "uujFDBw6DhPS"
      }
    },
    {
      "cell_type": "code",
      "source": [
        "from google.colab import drive\n",
        "drive.mount('/content/drive')"
      ],
      "metadata": {
        "colab": {
          "base_uri": "https://localhost:8080/"
        },
        "id": "HlCGLggkQjkc",
        "outputId": "d2208086-3e52-4a39-e3ff-20effb04999a"
      },
      "execution_count": 1,
      "outputs": [
        {
          "output_type": "stream",
          "name": "stdout",
          "text": [
            "Mounted at /content/drive\n"
          ]
        }
      ]
    },
    {
      "cell_type": "code",
      "source": [
        "cd/content/drive/MyDrive/Project"
      ],
      "metadata": {
        "colab": {
          "base_uri": "https://localhost:8080/"
        },
        "id": "kGG5G73-UMi7",
        "outputId": "1448598e-8b49-49f6-95ef-262b489d03dc"
      },
      "execution_count": 2,
      "outputs": [
        {
          "output_type": "stream",
          "name": "stdout",
          "text": [
            "/content/drive/MyDrive/Project\n"
          ]
        }
      ]
    },
    {
      "cell_type": "code",
      "source": [
        "from tensorflow.keras.preprocessing import image\n",
        "from tensorflow.keras.preprocessing.image import img_to_array\n",
        "from tensorflow.keras.models import load_model\n",
        "import numpy as np"
      ],
      "metadata": {
        "id": "04G6jX7CQmKJ"
      },
      "execution_count": 3,
      "outputs": []
    },
    {
      "cell_type": "code",
      "source": [
        "model = load_model(\"fruit.h5\")"
      ],
      "metadata": {
        "id": "yG3AKU8dT1v4"
      },
      "execution_count": 4,
      "outputs": []
    },
    {
      "cell_type": "code",
      "source": [
        "img=image.load_img(\"/content/drive/MyDrive/Project/Dataset Plant Disease/fruit-dataset/fruit-dataset/train/Corn_(maize)___Northern_Leaf_Blight/019e3ef7-aae4-4fd3-b95f-b4e914df7a39___RS_NLB 4284.JPG\",target_size=(64,64))"
      ],
      "metadata": {
        "id": "_JxBTEMtUqeI"
      },
      "execution_count": 5,
      "outputs": []
    },
    {
      "cell_type": "code",
      "source": [
        "img"
      ],
      "metadata": {
        "colab": {
          "base_uri": "https://localhost:8080/",
          "height": 81
        },
        "id": "5KONcTRlYsPW",
        "outputId": "95cb7cec-189d-430a-bfd5-5351f684df2c"
      },
      "execution_count": 6,
      "outputs": [
        {
          "output_type": "execute_result",
          "data": {
            "text/plain": [
              "<PIL.Image.Image image mode=RGB size=64x64 at 0x7F4EE9840910>"
            ],
            "image/png": "[encoded data removed]"
          },
          "metadata": {},
          "execution_count": 6
        }
      ]
    },
    {
      "cell_type": "code",
      "source": [
        "x=image.img_to_array(img)"
      ],
      "metadata": {
        "id": "s2kaIJSTYwrf"
      },
      "execution_count": 7,
      "outputs": []
    },
    {
      "cell_type": "code",
      "source": [
        "x"
      ],
      "metadata": {
        "colab": {
          "base_uri": "https://localhost:8080/"
        },
        "id": "acGnoAMoZxOE",
        "outputId": "69486fc9-6db9-4a13-fe47-02a9d59cd0fa"
      },
      "execution_count": 8,
      "outputs": [
        {
          "output_type": "execute_result",
          "data": {
            "text/plain": [
              "array([[[130., 126., 143.],\n",
              "        [130., 126., 143.],\n",
              "        [131., 127., 144.],\n",
              "        ...,\n",
              "        [ 67.,  83.,  44.],\n",
              "        [ 65.,  82.,  48.],\n",
              "        [ 56.,  86.,  62.]],\n",
              "\n",
              "       [[131., 127., 144.],\n",
              "        [134., 130., 147.],\n",
              "        [133., 129., 146.],\n",
              "        ...,\n",
              "        [ 66.,  83.,  47.],\n",
              "        [ 67.,  86.,  54.],\n",
              "        [ 71.,  99.,  74.]],\n",
              "\n",
              "       [[135., 131., 148.],\n",
              "        [135., 131., 148.],\n",
              "        [132., 128., 145.],\n",
              "        ...,\n",
              "        [ 65.,  89.,  55.],\n",
              "        [ 65.,  89.,  57.],\n",
              "        [ 68.,  91.,  63.]],\n",
              "\n",
              "       ...,\n",
              "\n",
              "       [[137., 126., 132.],\n",
              "        [138., 127., 133.],\n",
              "        [141., 130., 136.],\n",
              "        ...,\n",
              "        [ 80.,  98.,  56.],\n",
              "        [ 81.,  99.,  57.],\n",
              "        [ 78.,  99.,  58.]],\n",
              "\n",
              "       [[137., 126., 132.],\n",
              "        [135., 124., 130.],\n",
              "        [138., 127., 133.],\n",
              "        ...,\n",
              "        [ 91., 108.,  66.],\n",
              "        [ 70.,  85.,  42.],\n",
              "        [ 82.,  97.,  54.]],\n",
              "\n",
              "       [[137., 126., 132.],\n",
              "        [135., 124., 130.],\n",
              "        [137., 126., 132.],\n",
              "        ...,\n",
              "        [ 82.,  98.,  59.],\n",
              "        [ 77.,  90.,  47.],\n",
              "        [114., 126.,  80.]]], dtype=float32)"
            ]
          },
          "metadata": {},
          "execution_count": 8
        }
      ]
    },
    {
      "cell_type": "code",
      "source": [
        "x=np.expand_dims(x,axis=0)"
      ],
      "metadata": {
        "id": "zXTzymTXZuZt"
      },
      "execution_count": 9,
      "outputs": []
    },
    {
      "cell_type": "code",
      "source": [
        "x"
      ],
      "metadata": {
        "colab": {
          "base_uri": "https://localhost:8080/"
        },
        "id": "g4vwVlZsZmVA",
        "outputId": "afe2a54a-3100-4b13-b9d0-2334990578fd"
      },
      "execution_count": 10,
      "outputs": [
        {
          "output_type": "execute_result",
          "data": {
            "text/plain": [
              "array([[[[130., 126., 143.],\n",
              "         [130., 126., 143.],\n",
              "         [131., 127., 144.],\n",
              "         ...,\n",
              "         [ 67.,  83.,  44.],\n",
              "         [ 65.,  82.,  48.],\n",
              "         [ 56.,  86.,  62.]],\n",
              "\n",
              "        [[131., 127., 144.],\n",
              "         [134., 130., 147.],\n",
              "         [133., 129., 146.],\n",
              "         ...,\n",
              "         [ 66.,  83.,  47.],\n",
              "         [ 67.,  86.,  54.],\n",
              "         [ 71.,  99.,  74.]],\n",
              "\n",
              "        [[135., 131., 148.],\n",
              "         [135., 131., 148.],\n",
              "         [132., 128., 145.],\n",
              "         ...,\n",
              "         [ 65.,  89.,  55.],\n",
              "         [ 65.,  89.,  57.],\n",
              "         [ 68.,  91.,  63.]],\n",
              "\n",
              "        ...,\n",
              "\n",
              "        [[137., 126., 132.],\n",
              "         [138., 127., 133.],\n",
              "         [141., 130., 136.],\n",
              "         ...,\n",
              "         [ 80.,  98.,  56.],\n",
              "         [ 81.,  99.,  57.],\n",
              "         [ 78.,  99.,  58.]],\n",
              "\n",
              "        [[137., 126., 132.],\n",
              "         [135., 124., 130.],\n",
              "         [138., 127., 133.],\n",
              "         ...,\n",
              "         [ 91., 108.,  66.],\n",
              "         [ 70.,  85.,  42.],\n",
              "         [ 82.,  97.,  54.]],\n",
              "\n",
              "        [[137., 126., 132.],\n",
              "         [135., 124., 130.],\n",
              "         [137., 126., 132.],\n",
              "         ...,\n",
              "         [ 82.,  98.,  59.],\n",
              "         [ 77.,  90.,  47.],\n",
              "         [114., 126.,  80.]]]], dtype=float32)"
            ]
          },
          "metadata": {},
          "execution_count": 10
        }
      ]
    },
    {
      "cell_type": "code",
      "source": [
        "y=np.argmax(model.predict(x),axis=1)"
      ],
      "metadata": {
        "colab": {
          "base_uri": "https://localhost:8080/"
        },
        "id": "tpvDHn1wY8dY",
        "outputId": "48a57777-943f-48df-c588-edcc0e4f4e77"
      },
      "execution_count": 11,
      "outputs": [
        {
          "output_type": "stream",
          "name": "stdout",
          "text": [
            "1/1 [==============================] - 0s 424ms/step\n"
          ]
        }
      ]
    },
    {
      "cell_type": "code",
      "source": [
        "y"
      ],
      "metadata": {
        "colab": {
          "base_uri": "https://localhost:8080/"
        },
        "id": "5YxIURmQZXNB",
        "outputId": "aee1cd22-361e-43dd-a5cb-f80b38723f0f"
      },
      "execution_count": 12,
      "outputs": [
        {
          "output_type": "execute_result",
          "data": {
            "text/plain": [
              "array([3])"
            ]
          },
          "metadata": {},
          "execution_count": 12
        }
      ]
    }
  ]
}