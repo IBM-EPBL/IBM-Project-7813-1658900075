{
  "nbformat": 4,
  "nbformat_minor": 0,
  "metadata": {
    "colab": {
      "provenance": [],
      "collapsed_sections": []
    },
    "kernelspec": {
      "name": "python3",
      "display_name": "Python 3"
    },
    "language_info": {
      "name": "python"
    }
  },
  "cells": [
    {
      "cell_type": "code",
      "execution_count": 1,
      "metadata": {
        "colab": {
          "base_uri": "https://localhost:8080/"
        },
        "id": "BT_jRjffAFTa",
        "outputId": "3d2269a7-e263-4d03-9405-02bea60c965c"
      },
      "outputs": [
        {
          "output_type": "stream",
          "name": "stdout",
          "text": [
            "Drive already mounted at /content/drive; to attempt to forcibly remount, call drive.mount(\"/content/drive\", force_remount=True).\n"
          ]
        }
      ],
      "source": [
        "from google.colab import drive\n",
        "drive.mount('/content/drive')"
      ]
    },
    {
      "cell_type": "code",
      "source": [
        "from tensorflow.keras.preprocessing.image import ImageDataGenerator"
      ],
      "metadata": {
        "id": "UWCFnwnNAN7L"
      },
      "execution_count": 2,
      "outputs": []
    },
    {
      "cell_type": "code",
      "source": [
        "train_datagen = ImageDataGenerator(rescale= 1./255,horizontal_flip = True,vertical_flip = True,zoom_range = 0.2) \n",
        "test_datagen = ImageDataGenerator(rescale= 1./255)"
      ],
      "metadata": {
        "id": "S8d1cOIsAu8c"
      },
      "execution_count": 3,
      "outputs": []
    },
    {
      "cell_type": "code",
      "source": [
        "x_train = train_datagen.flow_from_directory(r\"/content/drive/MyDrive/Project/Dataset Plant Disease/Veg-dataset/Veg-dataset/train_set\",target_size = (128,128),batch_size = 128,  class_mode = \"categorical\") "
      ],
      "metadata": {
        "id": "N2Xqm4UdA3fT",
        "colab": {
          "base_uri": "https://localhost:8080/"
        },
        "outputId": "ef6c59ae-30b0-4673-e602-5d1fd9ae3207"
      },
      "execution_count": 4,
      "outputs": [
        {
          "output_type": "stream",
          "name": "stdout",
          "text": [
            "Found 11386 images belonging to 9 classes.\n"
          ]
        }
      ]
    },
    {
      "cell_type": "code",
      "source": [
        "x_test = test_datagen.flow_from_directory(r\"/content/drive/MyDrive/Project/Dataset Plant Disease/Veg-dataset/Veg-dataset/test_set\",target_size = (128,128),batch_size = 128,  class_mode = \"categorical\") "
      ],
      "metadata": {
        "id": "SheAaY4lA9Os",
        "colab": {
          "base_uri": "https://localhost:8080/"
        },
        "outputId": "33c8841b-e819-495a-9d84-6db4a47142d4"
      },
      "execution_count": 5,
      "outputs": [
        {
          "output_type": "stream",
          "name": "stdout",
          "text": [
            "Found 3416 images belonging to 9 classes.\n"
          ]
        }
      ]
    },
    {
      "cell_type": "code",
      "source": [
        "from tensorflow.keras.models import Sequential \n",
        "from tensorflow.keras.layers import Dense \n",
        "from tensorflow.keras.layers import Convolution2D\n",
        "from tensorflow.keras.layers import MaxPooling2D \n",
        "from tensorflow.keras.layers import Flatten"
      ],
      "metadata": {
        "id": "3XRRTkfuIfGZ"
      },
      "execution_count": 6,
      "outputs": []
    },
    {
      "cell_type": "code",
      "source": [
        "model=Sequential()"
      ],
      "metadata": {
        "id": "lrp56fOkI84N"
      },
      "execution_count": 7,
      "outputs": []
    },
    {
      "cell_type": "code",
      "source": [
        "model.add(Convolution2D(32, (3,3),input_shape=(128,128,3),activation='relu')) "
      ],
      "metadata": {
        "id": "2VzqESVNJF-e"
      },
      "execution_count": 8,
      "outputs": []
    },
    {
      "cell_type": "code",
      "source": [
        "model.add(MaxPooling2D(pool_size=(2,2)))"
      ],
      "metadata": {
        "id": "po-QyVXjNy9g"
      },
      "execution_count": 9,
      "outputs": []
    },
    {
      "cell_type": "code",
      "source": [
        "model.add(Flatten())"
      ],
      "metadata": {
        "id": "_0hANY2ZfeGv"
      },
      "execution_count": 10,
      "outputs": []
    },
    {
      "cell_type": "code",
      "source": [
        "model.summary()"
      ],
      "metadata": {
        "colab": {
          "base_uri": "https://localhost:8080/"
        },
        "id": "Rl-N9YA7fqAr",
        "outputId": "038bc645-9926-47ff-953f-7fbc5e2c9346"
      },
      "execution_count": 11,
      "outputs": [
        {
          "output_type": "stream",
          "name": "stdout",
          "text": [
            "Model: \"sequential\"\n",
            "_________________________________________________________________\n",
            " Layer (type)                Output Shape              Param #   \n",
            "=================================================================\n",
            " conv2d (Conv2D)             (None, 126, 126, 32)      896       \n",
            "                                                                 \n",
            " max_pooling2d (MaxPooling2D  (None, 63, 63, 32)       0         \n",
            " )                                                               \n",
            "                                                                 \n",
            " flatten (Flatten)           (None, 127008)            0         \n",
            "                                                                 \n",
            "=================================================================\n",
            "Total params: 896\n",
            "Trainable params: 896\n",
            "Non-trainable params: 0\n",
            "_________________________________________________________________\n"
          ]
        }
      ]
    },
    {
      "cell_type": "code",
      "source": [
        "Model: \"sequential\""
      ],
      "metadata": {
        "id": "fGnZ_KvWfuD_"
      },
      "execution_count": 12,
      "outputs": []
    },
    {
      "cell_type": "code",
      "source": [
        "model.add(Dense(300,activation='relu')) \n",
        "model.add(Dense(150,activation='relu'))"
      ],
      "metadata": {
        "id": "cTAaPPjBfxew"
      },
      "execution_count": 13,
      "outputs": []
    },
    {
      "cell_type": "code",
      "source": [
        "model.add(Dense(9,activation='softmax')) \n",
        "len(x_train)"
      ],
      "metadata": {
        "colab": {
          "base_uri": "https://localhost:8080/"
        },
        "id": "u-4bG05Bf10h",
        "outputId": "faaf1364-884c-475b-e485-c56a8022d546"
      },
      "execution_count": 14,
      "outputs": [
        {
          "output_type": "execute_result",
          "data": {
            "text/plain": [
              "89"
            ]
          },
          "metadata": {},
          "execution_count": 14
        }
      ]
    },
    {
      "cell_type": "code",
      "source": [
        "model.compile(loss='categorical_crossentropy',optimizer='adam',metrics =[\"accuracy\"]) "
      ],
      "metadata": {
        "id": "PCcF0268f7UB"
      },
      "execution_count": 15,
      "outputs": []
    },
    {
      "cell_type": "code",
      "source": [
        "model.fit(x_train,steps_per_epoch=len(x_train),validation_data=x_test, validation_steps=len(x_test),epochs=10)"
      ],
      "metadata": {
        "colab": {
          "base_uri": "https://localhost:8080/"
        },
        "id": "wnlHLLpFg1BC",
        "outputId": "89c70511-8270-4bcd-809c-b891fbf6c85f"
      },
      "execution_count": 18,
      "outputs": [
        {
          "output_type": "stream",
          "name": "stdout",
          "text": [
            "Epoch 1/10\n",
            "89/89 [==============================] - 8592s 97s/step - loss: 3.3788 - accuracy: 0.3939 - val_loss: 1.4283 - val_accuracy: 0.4766\n",
            "Epoch 2/10\n",
            "89/89 [==============================] - 282s 3s/step - loss: 0.9996 - accuracy: 0.6653 - val_loss: 1.1423 - val_accuracy: 0.6121\n",
            "Epoch 3/10\n",
            "89/89 [==============================] - 295s 3s/step - loss: 0.7310 - accuracy: 0.7498 - val_loss: 0.9455 - val_accuracy: 0.6906\n",
            "Epoch 4/10\n",
            "89/89 [==============================] - 280s 3s/step - loss: 0.6035 - accuracy: 0.7908 - val_loss: 0.5677 - val_accuracy: 0.8088\n",
            "Epoch 5/10\n",
            "89/89 [==============================] - 277s 3s/step - loss: 0.5238 - accuracy: 0.8182 - val_loss: 0.7798 - val_accuracy: 0.7327\n",
            "Epoch 6/10\n",
            "89/89 [==============================] - 291s 3s/step - loss: 0.4680 - accuracy: 0.8349 - val_loss: 0.6384 - val_accuracy: 0.7851\n",
            "Epoch 7/10\n",
            "89/89 [==============================] - 266s 3s/step - loss: 0.4069 - accuracy: 0.8604 - val_loss: 0.4164 - val_accuracy: 0.8513\n",
            "Epoch 8/10\n",
            "89/89 [==============================] - 264s 3s/step - loss: 0.3752 - accuracy: 0.8696 - val_loss: 0.5089 - val_accuracy: 0.8249\n",
            "Epoch 9/10\n",
            "89/89 [==============================] - 266s 3s/step - loss: 0.3534 - accuracy: 0.8801 - val_loss: 0.6009 - val_accuracy: 0.7863\n",
            "Epoch 10/10\n",
            "89/89 [==============================] - 275s 3s/step - loss: 0.3374 - accuracy: 0.8835 - val_loss: 0.4508 - val_accuracy: 0.8448\n"
          ]
        },
        {
          "output_type": "execute_result",
          "data": {
            "text/plain": [
              "<keras.callbacks.History at 0x7f7e67584950>"
            ]
          },
          "metadata": {},
          "execution_count": 18
        }
      ]
    },
    {
      "cell_type": "code",
      "source": [
        "model.save('vegetable.h5')"
      ],
      "metadata": {
        "id": "t0cVd-zakZye"
      },
      "execution_count": 19,
      "outputs": []
    },
    {
      "cell_type": "code",
      "source": [
        "model.summary()"
      ],
      "metadata": {
        "colab": {
          "base_uri": "https://localhost:8080/"
        },
        "id": "yRdWy4Olku8K",
        "outputId": "0d081fd7-87a5-4ec5-e2ba-58a617228ada"
      },
      "execution_count": 20,
      "outputs": [
        {
          "output_type": "stream",
          "name": "stdout",
          "text": [
            "Model: \"sequential\"\n",
            "_________________________________________________________________\n",
            " Layer (type)                Output Shape              Param #   \n",
            "=================================================================\n",
            " conv2d (Conv2D)             (None, 126, 126, 32)      896       \n",
            "                                                                 \n",
            " max_pooling2d (MaxPooling2D  (None, 63, 63, 32)       0         \n",
            " )                                                               \n",
            "                                                                 \n",
            " flatten (Flatten)           (None, 127008)            0         \n",
            "                                                                 \n",
            " dense (Dense)               (None, 300)               38102700  \n",
            "                                                                 \n",
            " dense_1 (Dense)             (None, 150)               45150     \n",
            "                                                                 \n",
            " dense_2 (Dense)             (None, 9)                 1359      \n",
            "                                                                 \n",
            "=================================================================\n",
            "Total params: 38,150,105\n",
            "Trainable params: 38,150,105\n",
            "Non-trainable params: 0\n",
            "_________________________________________________________________\n"
          ]
        }
      ]
    }
  ]
}