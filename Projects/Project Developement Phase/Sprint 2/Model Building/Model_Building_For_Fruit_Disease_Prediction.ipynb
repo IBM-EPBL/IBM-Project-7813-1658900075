{
  "nbformat": 4,
  "nbformat_minor": 0,
  "metadata": {
    "colab": {
      "provenance": [],
      "collapsed_sections": []
    },
    "kernelspec": {
      "name": "python3",
      "display_name": "Python 3"
    },
    "language_info": {
      "name": "python"
    }
  },
  "cells": [
    {
      "cell_type": "code",
      "execution_count": 23,
      "metadata": {
        "colab": {
          "base_uri": "https://localhost:8080/"
        },
        "id": "SXDiB1syAD94",
        "outputId": "bf5edc92-1e61-4e01-f307-2472fe0ad590"
      },
      "outputs": [
        {
          "output_type": "stream",
          "name": "stdout",
          "text": [
            "Drive already mounted at /content/drive; to attempt to forcibly remount, call drive.mount(\"/content/drive\", force_remount=True).\n"
          ]
        }
      ],
      "source": [
        "from google.colab import drive\n",
        "drive.mount('/content/drive')"
      ]
    },
    {
      "cell_type": "code",
      "source": [
        "cd/content/drive/MyDrive/Project"
      ],
      "metadata": {
        "id": "vmVYE7D-Admn",
        "colab": {
          "base_uri": "https://localhost:8080/"
        },
        "outputId": "d576f35a-abf1-4bb0-d43f-c7ac96ba3ac6"
      },
      "execution_count": 25,
      "outputs": [
        {
          "output_type": "stream",
          "name": "stdout",
          "text": [
            "/content/drive/MyDrive/Project\n"
          ]
        }
      ]
    },
    {
      "cell_type": "code",
      "source": [
        "pwd"
      ],
      "metadata": {
        "colab": {
          "base_uri": "https://localhost:8080/",
          "height": 35
        },
        "id": "31BJx153BZGT",
        "outputId": "5fa6d88d-67dd-46a8-dd8d-c89f9706bfe0"
      },
      "execution_count": 26,
      "outputs": [
        {
          "output_type": "execute_result",
          "data": {
            "text/plain": [
              "'/content/drive/MyDrive/Project'"
            ],
            "application/vnd.google.colaboratory.intrinsic+json": {
              "type": "string"
            }
          },
          "metadata": {},
          "execution_count": 26
        }
      ]
    },
    {
      "cell_type": "code",
      "source": [
        "from tensorflow.keras.preprocessing.image import ImageDataGenerator"
      ],
      "metadata": {
        "id": "uZgbF4UZBeIl"
      },
      "execution_count": 27,
      "outputs": []
    },
    {
      "cell_type": "code",
      "source": [
        "train_datagen = ImageDataGenerator(rescale= 1./255,horizontal_flip = True,vertical_flip = True,zoom_range = 0.2) \n"
      ],
      "metadata": {
        "id": "iPscPrEwBiB3"
      },
      "execution_count": null,
      "outputs": []
    },
    {
      "cell_type": "code",
      "source": [
        "test_datagen = ImageDataGenerator(rescale= 1./255)"
      ],
      "metadata": {
        "id": "_y7IlrCUBnQe"
      },
      "execution_count": null,
      "outputs": []
    },
    {
      "cell_type": "code",
      "source": [
        "x_train = train_datagen.flow_from_directory(r\"/content/drive/MyDrive/Project/Dataset Plant Disease/fruit-dataset/fruit-dataset/train\",target_size = (64,64),  class_mode = \"categorical\",batch_size = 24) "
      ],
      "metadata": {
        "colab": {
          "base_uri": "https://localhost:8080/"
        },
        "id": "1FGeBW55Bz0B",
        "outputId": "93bf6840-27e8-4fea-e061-a76d77a78718"
      },
      "execution_count": null,
      "outputs": [
        {
          "output_type": "stream",
          "name": "stdout",
          "text": [
            "Found 5384 images belonging to 6 classes.\n"
          ]
        }
      ]
    },
    {
      "cell_type": "code",
      "source": [
        "x_test = test_datagen.flow_from_directory(r\"/content/drive/MyDrive/Project/Dataset Plant Disease/fruit-dataset/fruit-dataset/test\",target_size = (64,64),   \n",
        "class_mode = \"categorical\",batch_size = 24)"
      ],
      "metadata": {
        "colab": {
          "base_uri": "https://localhost:8080/"
        },
        "id": "XisfnULxCGoW",
        "outputId": "a69be380-1441-43d3-b88f-903ce111004e"
      },
      "execution_count": null,
      "outputs": [
        {
          "output_type": "stream",
          "name": "stdout",
          "text": [
            "Found 1686 images belonging to 6 classes.\n"
          ]
        }
      ]
    },
    {
      "cell_type": "code",
      "source": [
        "x_train.class_indices"
      ],
      "metadata": {
        "colab": {
          "base_uri": "https://localhost:8080/"
        },
        "id": "wQBidmWSCUPl",
        "outputId": "284d8913-ae33-4877-afb4-11a13d6962d2"
      },
      "execution_count": null,
      "outputs": [
        {
          "output_type": "execute_result",
          "data": {
            "text/plain": [
              "{'Apple___Black_rot': 0,\n",
              " 'Apple___healthy': 1,\n",
              " 'Corn_(maize)___Northern_Leaf_Blight': 2,\n",
              " 'Corn_(maize)___healthy': 3,\n",
              " 'Peach___Bacterial_spot': 4,\n",
              " 'Peach___healthy': 5}"
            ]
          },
          "metadata": {},
          "execution_count": 10
        }
      ]
    },
    {
      "cell_type": "code",
      "source": [
        "from tensorflow.keras.models import Sequential \n",
        "from tensorflow.keras.layers import Dense \n",
        "from tensorflow.keras.layers import Convolution2D,MaxPooling2D,Flatten"
      ],
      "metadata": {
        "id": "7SzisWs_CcI9"
      },
      "execution_count": null,
      "outputs": []
    },
    {
      "cell_type": "code",
      "source": [
        "model=Sequential()"
      ],
      "metadata": {
        "id": "qokg2g-WCgTq"
      },
      "execution_count": null,
      "outputs": []
    },
    {
      "cell_type": "code",
      "source": [
        "model.add(Convolution2D(32, (3,3),input_shape=(64,64,3),activation='relu',strides=(1,1))) "
      ],
      "metadata": {
        "id": "fWFnr9-xCp_C"
      },
      "execution_count": null,
      "outputs": []
    },
    {
      "cell_type": "code",
      "source": [
        "model.add(MaxPooling2D(pool_size=(2,2)))"
      ],
      "metadata": {
        "id": "aIQt8UOiCthp"
      },
      "execution_count": null,
      "outputs": []
    },
    {
      "cell_type": "code",
      "source": [
        "model.add(Flatten())"
      ],
      "metadata": {
        "id": "vbgbovCDCxjm"
      },
      "execution_count": null,
      "outputs": []
    },
    {
      "cell_type": "code",
      "source": [
        "model.summary() "
      ],
      "metadata": {
        "colab": {
          "base_uri": "https://localhost:8080/"
        },
        "id": "n4zxmtQbC3y2",
        "outputId": "696ec702-488c-49f0-b61c-b3475cb56de3"
      },
      "execution_count": null,
      "outputs": [
        {
          "output_type": "stream",
          "name": "stdout",
          "text": [
            "Model: \"sequential\"\n",
            "_________________________________________________________________\n",
            " Layer (type)                Output Shape              Param #   \n",
            "=================================================================\n",
            " conv2d (Conv2D)             (None, 62, 62, 32)        896       \n",
            "                                                                 \n",
            " max_pooling2d (MaxPooling2D  (None, 31, 31, 32)       0         \n",
            " )                                                               \n",
            "                                                                 \n",
            " flatten (Flatten)           (None, 30752)             0         \n",
            "                                                                 \n",
            "=================================================================\n",
            "Total params: 896\n",
            "Trainable params: 896\n",
            "Non-trainable params: 0\n",
            "_________________________________________________________________\n"
          ]
        }
      ]
    },
    {
      "cell_type": "code",
      "source": [
        "Model: \"sequential\""
      ],
      "metadata": {
        "id": "0Kb7KbFfC73N"
      },
      "execution_count": null,
      "outputs": []
    },
    {
      "cell_type": "code",
      "source": [
        "model.add(Dense(300,activation='relu')) \n",
        "model.add(Dense(150,activation='relu'))"
      ],
      "metadata": {
        "id": "LcWx2osjDFhU"
      },
      "execution_count": null,
      "outputs": []
    },
    {
      "cell_type": "code",
      "source": [
        "model.add(Dense(6,activation='softmax')) \n",
        "len(x_train)"
      ],
      "metadata": {
        "colab": {
          "base_uri": "https://localhost:8080/"
        },
        "id": "XEtDqfLeDHAe",
        "outputId": "06bd9ed8-4c96-4e98-9b12-95b8bf558920"
      },
      "execution_count": null,
      "outputs": [
        {
          "output_type": "execute_result",
          "data": {
            "text/plain": [
              "225"
            ]
          },
          "metadata": {},
          "execution_count": 19
        }
      ]
    },
    {
      "cell_type": "code",
      "source": [
        "model.compile(loss='categorical_crossentropy',optimizer='adam',metrics =[\"accuracy\"]) "
      ],
      "metadata": {
        "id": "7tFeYrVCDME0"
      },
      "execution_count": null,
      "outputs": []
    },
    {
      "cell_type": "code",
      "source": [
        "model.fit(x_train,steps_per_epoch=len(x_train),validation_data=x_test, validation_steps=len(x_test),epochs=10)"
      ],
      "metadata": {
        "id": "2kCvltRVHPi3",
        "colab": {
          "base_uri": "https://localhost:8080/"
        },
        "outputId": "09db8b0c-977b-40a3-a2e7-9a4591f201bc"
      },
      "execution_count": 28,
      "outputs": [
        {
          "output_type": "stream",
          "name": "stdout",
          "text": [
            "Epoch 1/10\n",
            "225/225 [==============================] - 65s 289ms/step - loss: 0.3026 - accuracy: 0.8934 - val_loss: 0.2224 - val_accuracy: 0.9164\n",
            "Epoch 2/10\n",
            "225/225 [==============================] - 64s 285ms/step - loss: 0.2341 - accuracy: 0.9162 - val_loss: 0.2199 - val_accuracy: 0.9193\n",
            "Epoch 3/10\n",
            "225/225 [==============================] - 61s 272ms/step - loss: 0.1870 - accuracy: 0.9359 - val_loss: 0.2585 - val_accuracy: 0.9181\n",
            "Epoch 4/10\n",
            "225/225 [==============================] - 65s 288ms/step - loss: 0.1815 - accuracy: 0.9359 - val_loss: 0.1348 - val_accuracy: 0.9537\n",
            "Epoch 5/10\n",
            "225/225 [==============================] - 60s 266ms/step - loss: 0.1518 - accuracy: 0.9482 - val_loss: 0.2241 - val_accuracy: 0.9324\n",
            "Epoch 6/10\n",
            "225/225 [==============================] - 60s 267ms/step - loss: 0.1615 - accuracy: 0.9450 - val_loss: 0.1474 - val_accuracy: 0.9460\n",
            "Epoch 7/10\n",
            "225/225 [==============================] - 61s 272ms/step - loss: 0.1280 - accuracy: 0.9545 - val_loss: 0.1212 - val_accuracy: 0.9543\n",
            "Epoch 8/10\n",
            "225/225 [==============================] - 61s 271ms/step - loss: 0.1270 - accuracy: 0.9580 - val_loss: 0.1192 - val_accuracy: 0.9626\n",
            "Epoch 9/10\n",
            "225/225 [==============================] - 63s 282ms/step - loss: 0.1115 - accuracy: 0.9614 - val_loss: 0.1335 - val_accuracy: 0.9567\n",
            "Epoch 10/10\n",
            "225/225 [==============================] - 64s 286ms/step - loss: 0.0866 - accuracy: 0.9734 - val_loss: 0.1248 - val_accuracy: 0.9638\n"
          ]
        },
        {
          "output_type": "execute_result",
          "data": {
            "text/plain": [
              "<keras.callbacks.History at 0x7fd629c5d850>"
            ]
          },
          "metadata": {},
          "execution_count": 28
        }
      ]
    },
    {
      "cell_type": "code",
      "source": [
        "model.save('fruit.h5')"
      ],
      "metadata": {
        "id": "zfYBde1j7UFP"
      },
      "execution_count": 29,
      "outputs": []
    },
    {
      "cell_type": "code",
      "source": [
        "model.summary()"
      ],
      "metadata": {
        "colab": {
          "base_uri": "https://localhost:8080/"
        },
        "id": "XadaRl3eHPTV",
        "outputId": "5f9f1aba-3484-462e-9b94-f690d611906a"
      },
      "execution_count": 30,
      "outputs": [
        {
          "output_type": "stream",
          "name": "stdout",
          "text": [
            "Model: \"sequential\"\n",
            "_________________________________________________________________\n",
            " Layer (type)                Output Shape              Param #   \n",
            "=================================================================\n",
            " conv2d (Conv2D)             (None, 62, 62, 32)        896       \n",
            "                                                                 \n",
            " max_pooling2d (MaxPooling2D  (None, 31, 31, 32)       0         \n",
            " )                                                               \n",
            "                                                                 \n",
            " flatten (Flatten)           (None, 30752)             0         \n",
            "                                                                 \n",
            " dense (Dense)               (None, 300)               9225900   \n",
            "                                                                 \n",
            " dense_1 (Dense)             (None, 150)               45150     \n",
            "                                                                 \n",
            " dense_2 (Dense)             (None, 6)                 906       \n",
            "                                                                 \n",
            "=================================================================\n",
            "Total params: 9,272,852\n",
            "Trainable params: 9,272,852\n",
            "Non-trainable params: 0\n",
            "_________________________________________________________________\n"
          ]
        }
      ]
    }
  ]
}