{
  "nbformat": 4,
  "nbformat_minor": 0,
  "metadata": {
    "colab": {
      "provenance": [],
      "collapsed_sections": []
    },
    "kernelspec": {
      "name": "python3",
      "display_name": "Python 3"
    },
    "language_info": {
      "name": "python"
    }
  },
  "cells": [
    {
      "cell_type": "markdown",
      "source": [
        "### **Image Preprocessing**"
      ],
      "metadata": {
        "id": "-u6d3ZMuXR_G"
      }
    },
    {
      "cell_type": "code",
      "execution_count": 1,
      "metadata": {
        "colab": {
          "base_uri": "https://localhost:8080/"
        },
        "id": "n84CziDxSuuP",
        "outputId": "47ab928e-be2e-4dca-e705-bb3cabf9cda8"
      },
      "outputs": [
        {
          "output_type": "stream",
          "name": "stdout",
          "text": [
            "Drive already mounted at /content/drive; to attempt to forcibly remount, call drive.mount(\"/content/drive\", force_remount=True).\n"
          ]
        }
      ],
      "source": [
        "from google.colab import drive\n",
        "drive.mount('/content/drive')"
      ]
    },
    {
      "cell_type": "code",
      "source": [
        "from keras.preprocessing.image import ImageDataGenerator"
      ],
      "metadata": {
        "id": "0e1v7rVCTE-u"
      },
      "execution_count": 2,
      "outputs": []
    },
    {
      "cell_type": "code",
      "source": [
        "train_datagen = ImageDataGenerator(rescale= 1./255,shear_range = 0.2,zoom_range = 0.2,horizontal_flip = True,vertical_flip = True) "
      ],
      "metadata": {
        "id": "1od162zqTvtP"
      },
      "execution_count": 3,
      "outputs": []
    },
    {
      "cell_type": "code",
      "source": [
        "test_datagen = ImageDataGenerator(rescale= 1./255)"
      ],
      "metadata": {
        "id": "4Q-arJ-mUPHL"
      },
      "execution_count": 4,
      "outputs": []
    },
    {
      "cell_type": "code",
      "source": [
        "x_train = train_datagen.flow_from_directory(r\"/content/drive/MyDrive/Project/Dataset Plant Disease/fruit-dataset/fruit-dataset/train\",target_size = (64,64),  class_mode = \"categorical\",batch_size = 24)\n",
        "x_test = test_datagen.flow_from_directory(r\"/content/drive/MyDrive/Project/Dataset Plant Disease/fruit-dataset/fruit-dataset/test\",target_size = (64,64),  class_mode = \"categorical\",batch_size = 24)"
      ],
      "metadata": {
        "colab": {
          "base_uri": "https://localhost:8080/"
        },
        "id": "wi7rKjjQSyPQ",
        "outputId": "c53a8873-95a8-436b-8418-47aeaf77301e"
      },
      "execution_count": 5,
      "outputs": [
        {
          "output_type": "stream",
          "name": "stdout",
          "text": [
            "Found 5384 images belonging to 6 classes.\n",
            "Found 1686 images belonging to 6 classes.\n"
          ]
        }
      ]
    },
    {
      "cell_type": "code",
      "source": [
        "x_train = train_datagen.flow_from_directory(r\"/content/drive/MyDrive/Project/Dataset Plant Disease/Veg-dataset/Veg-dataset/train_set\",target_size = (64,64),   \n",
        "class_mode = \"categorical\",batch_size = 24)\n",
        "x_test = test_datagen.flow_from_directory(r\"/content/drive/MyDrive/Project/Dataset Plant Disease/Veg-dataset/Veg-dataset/test_set\",target_size = (64,64),   \n",
        "class_mode = \"categorical\",batch_size = 24) "
      ],
      "metadata": {
        "colab": {
          "base_uri": "https://localhost:8080/"
        },
        "id": "mVHBQFP-VVMO",
        "outputId": "603cd6e7-3761-46db-cf40-1c97b7d1e2c3"
      },
      "execution_count": 6,
      "outputs": [
        {
          "output_type": "stream",
          "name": "stdout",
          "text": [
            "Found 11386 images belonging to 9 classes.\n",
            "Found 3416 images belonging to 9 classes.\n"
          ]
        }
      ]
    }
  ]
}